{
 "cells": [
  {
   "cell_type": "code",
   "execution_count": null,
   "metadata": {},
   "outputs": [],
   "source": [
    "#サンプルコードをそのまま動かした。\n",
    "#以下が実行結果である。\n",
    " % /Users/timak/.pyenv/versions/3.8.2/bin/python /Users/timak/Desktop/5th/kobo/02/hw2-2.py\n",
    "train acc, test acc | 0.11236666666666667, 0.1135\n",
    "train acc, test acc | 0.7842333333333333, 0.789\n",
    "train acc, test acc | 0.8761833333333333, 0.8809\n",
    "train acc, test acc | 0.8989, 0.9023\n",
    "train acc, test acc | 0.90805, 0.9116\n",
    "train acc, test acc | 0.91485, 0.9181\n",
    "train acc, test acc | 0.9201833333333334, 0.9214\n",
    "train acc, test acc | 0.9258666666666666, 0.9277\n",
    "train acc, test acc | 0.9284166666666667, 0.9321\n",
    "train acc, test acc | 0.9324166666666667, 0.9335\n",
    "train acc, test acc | 0.9344333333333333, 0.9361\n",
    "train acc, test acc | 0.9377833333333333, 0.9379\n",
    "train acc, test acc | 0.9402, 0.9413\n",
    "train acc, test acc | 0.9415833333333333, 0.9418\n",
    "train acc, test acc | 0.9438666666666666, 0.9427\n",
    "train acc, test acc | 0.9451, 0.9445\n",
    "train acc, test acc | 0.9464166666666667, 0.9442\n",
    "#学習データとテストデータに大きな違いはないため、これはうまく学習できていると言える。"
   ]
  }
 ],
 "metadata": {
  "kernelspec": {
   "display_name": "Python 3",
   "language": "python",
   "name": "python3"
  },
  "language_info": {
   "codemirror_mode": {
    "name": "ipython",
    "version": 3
   },
   "file_extension": ".py",
   "mimetype": "text/x-python",
   "name": "python",
   "nbconvert_exporter": "python",
   "pygments_lexer": "ipython3",
   "version": "3.7.6"
  }
 },
 "nbformat": 4,
 "nbformat_minor": 4
}
